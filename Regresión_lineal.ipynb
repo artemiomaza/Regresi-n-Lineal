{
  "cells": [
    {
      "attachments": {},
      "cell_type": "markdown",
      "metadata": {},
      "source": [
        "# Regresión Lineal"
      ]
    },
    {
      "attachments": {},
      "cell_type": "markdown",
      "metadata": {},
      "source": [
        "### Importamos el Dataset"
      ]
    },
    {
      "cell_type": "code",
      "execution_count": null,
      "metadata": {
        "colab": {
          "base_uri": "https://localhost:8080/"
        },
        "id": "MaycONAkuk2r",
        "outputId": "c6e04c9b-2944-462a-f791-1996f335322f"
      },
      "outputs": [
        {
          "name": "stdout",
          "output_type": "stream",
          "text": [
            "Mounted at /content/drive\n"
          ]
        }
      ],
      "source": [
        "\n",
        "import sys\n",
        "from google.colab import drive\n",
        "\n",
        "drive.mount('/content/drive', force_remount=True)\n",
        "sys.path.append('/content/drive/MyDrive/Colab_Notebooks/DL_course/Clase_2')"
      ]
    },
    {
      "cell_type": "code",
      "execution_count": null,
      "metadata": {
        "id": "jpd3KdzkqjL3"
      },
      "outputs": [],
      "source": [
        "import pandas as pd, numpy as np\n",
        "data = pd.read_csv('/content/drive/MyDrive/Colab_Notebooks/DL_course/Clase_2/Advertising.csv')"
      ]
    },
    {
      "cell_type": "code",
      "execution_count": null,
      "metadata": {
        "colab": {
          "base_uri": "https://localhost:8080/"
        },
        "id": "4c1KhWtpzC8h",
        "outputId": "c61e90ad-4149-41f3-a662-47080eb2b1ae"
      },
      "outputs": [
        {
          "name": "stdout",
          "output_type": "stream",
          "text": [
            "   Unnamed: 0     TV  Radio  Newspaper  Sales\n",
            "0           1  230.1   37.8       69.2   22.1\n",
            "1           2   44.5   39.3       45.1   10.4\n",
            "2           3   17.2   45.9       69.3    9.3\n",
            "3           4  151.5   41.3       58.5   18.5\n",
            "4           5  180.8   10.8       58.4   12.9\n"
          ]
        }
      ],
      "source": [
        "print(data.head())"
      ]
    },
    {
      "cell_type": "code",
      "execution_count": null,
      "metadata": {
        "colab": {
          "base_uri": "https://localhost:8080/"
        },
        "id": "GipY-9v7xJXG",
        "outputId": "ce4e14e6-0cff-419b-ccff-53bc2cfbc61c"
      },
      "outputs": [
        {
          "name": "stdout",
          "output_type": "stream",
          "text": [
            "     Unnamed: 0     TV  Radio  Newspaper  Sales\n",
            "0             1  230.1   37.8       69.2   22.1\n",
            "1             2   44.5   39.3       45.1   10.4\n",
            "2             3   17.2   45.9       69.3    9.3\n",
            "3             4  151.5   41.3       58.5   18.5\n",
            "4             5  180.8   10.8       58.4   12.9\n",
            "..          ...    ...    ...        ...    ...\n",
            "195         196   38.2    3.7       13.8    7.6\n",
            "196         197   94.2    4.9        8.1    9.7\n",
            "197         198  177.0    9.3        6.4   12.8\n",
            "198         199  283.6   42.0       66.2   25.5\n",
            "199         200  232.1    8.6        8.7   13.4\n",
            "\n",
            "[200 rows x 5 columns]\n"
          ]
        }
      ],
      "source": [
        "print(data)"
      ]
    },
    {
      "cell_type": "code",
      "execution_count": null,
      "metadata": {
        "colab": {
          "base_uri": "https://localhost:8080/",
          "height": 403
        },
        "id": "g2VSmn8Oxxto",
        "outputId": "fc757be0-88d5-48e7-e7ea-a2d35966cde2"
      },
      "outputs": [
        {
          "data": {
            "text/plain": [
              "array([[<matplotlib.axes._subplots.AxesSubplot object at 0x7fb78423a750>,\n",
              "        <matplotlib.axes._subplots.AxesSubplot object at 0x7fb7841e0310>],\n",
              "       [<matplotlib.axes._subplots.AxesSubplot object at 0x7fb784275950>,\n",
              "        <matplotlib.axes._subplots.AxesSubplot object at 0x7fb7840d7f50>],\n",
              "       [<matplotlib.axes._subplots.AxesSubplot object at 0x7fb7840f6510>,\n",
              "        <matplotlib.axes._subplots.AxesSubplot object at 0x7fb7840a0a90>]],\n",
              "      dtype=object)"
            ]
          },
          "execution_count": 38,
          "metadata": {
            "tags": []
          },
          "output_type": "execute_result"
        },
        {
          "data": {
            "image/png": "[encoded data removed]",
            "text/plain": [
              "<Figure size 432x288 with 6 Axes>"
            ]
          },
          "metadata": {
            "needs_background": "light",
            "tags": []
          },
          "output_type": "display_data"
        }
      ],
      "source": [
        "data.hist()"
      ]
    },
    {
      "cell_type": "markdown",
      "metadata": {
        "id": "JIlw9RMjJ087"
      },
      "source": [
        "### Vamos a visualizar los datos"
      ]
    },
    {
      "cell_type": "code",
      "execution_count": null,
      "metadata": {
        "id": "DxGQuPkiJyuU"
      },
      "outputs": [],
      "source": [
        "from matplotlib import pyplot as plt"
      ]
    },
    {
      "cell_type": "code",
      "execution_count": null,
      "metadata": {
        "colab": {
          "base_uri": "https://localhost:8080/",
          "height": 279
        },
        "id": "lyxaFNRb0lQa",
        "outputId": "a2523cd3-d65c-4caf-edbe-3ac9042dc0de"
      },
      "outputs": [
        {
          "data": {
            "image/png": "[encoded data removed]",
            "text/plain": [
              "<Figure size 1008x288 with 3 Axes>"
            ]
          },
          "metadata": {
            "needs_background": "light",
            "tags": []
          },
          "output_type": "display_data"
        }
      ],
      "source": [
        "plt.figure(figsize=(14,4))\n",
        "\n",
        "plt.subplot(1,3,1)\n",
        "plt.scatter(data['TV'], data['Sales'], color='orange')\n",
        "plt.xlabel('TV')\n",
        "plt.ylabel('Sales')\n",
        "\n",
        "plt.subplot(1,3,2)\n",
        "plt.scatter(data['Radio'], data['Sales'], color = 'black')\n",
        "plt.xlabel('radio')\n",
        "plt.ylabel('sales')\n",
        "\n",
        "plt.subplot(1,3,3)\n",
        "plt.scatter(data['Newspaper'], data['Sales'], color = 'blue')\n",
        "plt.xlabel('newspaper')\n",
        "plt.ylabel('sales')\n",
        "\n",
        "\n",
        "plt.show()"
      ]
    },
    {
      "cell_type": "markdown",
      "metadata": {
        "id": "RC1K7Mz7ORfo"
      },
      "source": [
        "### Para practicar programación veremos un modelo matemático sencillo llamado regresión lineal"
      ]
    },
    {
      "cell_type": "markdown",
      "metadata": {
        "id": "Nc-1bcwhOR72"
      },
      "source": [
        "La regresión lineal es una técnica estadística de aprendizaje supervisado para predecir la variable cuantitativa formando una relación lineal con una o más características independientes.\n",
        "\n",
        "Ayuda a determinar:\n",
        "\n",
        "- Si una variable independiente hace un buen trabajo en la predicción de la variable dependiente.\n",
        "- Qué variable independiente desempeña un papel importante en la predicción de la variable dependiente.\n",
        "\n",
        "Para que funcione los datos deben cumplir algunos criterios.\n"
      ]
    },
    {
      "cell_type": "markdown",
      "metadata": {
        "id": "amodXFl3OYjg"
      },
      "source": [
        "La regresión lineal encuentra los parámetros de la línea que mejor se ajusta a los datos, es decir, la pendiente ($\\theta_1$) y la constante o intercepto ($\\theta_0$) en este caso.\n",
        "\n",
        "$$h_\\theta(x) = \\theta_1x + \\theta_0$$\n"
      ]
    },
    {
      "cell_type": "markdown",
      "metadata": {
        "id": "hJtkHSD2ZFNu"
      },
      "source": [
        "## Pero primero... veamos que tan relacionados están los datos"
      ]
    },
    {
      "cell_type": "code",
      "execution_count": null,
      "metadata": {
        "colab": {
          "base_uri": "https://localhost:8080/",
          "height": 310
        },
        "id": "cuS4wtKaJumN",
        "outputId": "0edc10ba-b173-4ea7-e422-0315ea19f46c"
      },
      "outputs": [
        {
          "data": {
            "image/png": "[encoded data removed]",
            "text/plain": [
              "<Figure size 720x1008 with 3 Axes>"
            ]
          },
          "metadata": {
            "needs_background": "light",
            "tags": []
          },
          "output_type": "display_data"
        }
      ],
      "source": [
        "def plotCaracteristicas(col_list,title):\n",
        "    plt.figure(figsize=(10, 14))\n",
        "    i = 0\n",
        "    for col in col_list:\n",
        "        i+=1\n",
        "        plt.subplot(7,2,i)\n",
        "        plt.plot(data[col],data[\"Sales\"],marker='.',linestyle='none')\n",
        "        plt.title(title % (col))   \n",
        "        plt.tight_layout()\n",
        "\n",
        "col_names = ['TV', 'Radio', 'Newspaper']\n",
        "plotCaracteristicas(col_names,\"Relación entre %s y ventas\")"
      ]
    },
    {
      "cell_type": "markdown",
      "metadata": {
        "id": "p3LipuaoZpzr"
      },
      "source": [
        "Covarianza"
      ]
    },
    {
      "cell_type": "markdown",
      "metadata": {
        "id": "FVebD5YNbVkY"
      },
      "source": [
        "La covarianza entre dos variables aleatorias $X$ e $Y$ se define como:\n",
        "$$Cov(X, Y) = E[(X - E[X])(Y - E[Y])$$"
      ]
    },
    {
      "cell_type": "markdown",
      "metadata": {
        "id": "4Qu4IxApb__4"
      },
      "source": [
        "Dado que las variables aleatorias $X$ e $Y$ son discretas y están definidas como $X = \\{x_1, x_2,..., x_n\\}$ y $Y = \\{y_1, y_2,..., y_n\\}$ con igual probabilidad para todos sus elementos entonces la covarianza se puede definir como:\n",
        "\n",
        "$$Cov(X, Y) = \\frac{1}{n} \\sum_{i=1}^{n} (x_i - E[X])(y_i - E[Y])$$"
      ]
    },
    {
      "cell_type": "code",
      "execution_count": null,
      "metadata": {
        "id": "GXAcewE2Z6De"
      },
      "outputs": [],
      "source": [
        "def covarianza(X, Y):\n",
        "  suma = 0\n",
        "  for x, y in zip(X, Y):\n",
        "    suma +=((x - np.mean(X)) * (y - np.mean(Y)))\n",
        "  return suma * 1/(len(X))"
      ]
    },
    {
      "cell_type": "code",
      "execution_count": null,
      "metadata": {
        "colab": {
          "base_uri": "https://localhost:8080/"
        },
        "id": "uxZxdENLWzUB",
        "outputId": "55fa55a5-4f7d-4293-8f64-af77fbdb0bfc"
      },
      "outputs": [
        {
          "name": "stdout",
          "output_type": "stream",
          "text": [
            "348.6382437499999\n",
            "44.41250999999999\n",
            "25.811684999999994\n"
          ]
        }
      ],
      "source": [
        "colnames = ['TV', 'Radio', 'Newspaper']\n",
        "\n",
        "for col in colnames:\n",
        "  print(covarianza(data[col],data['Sales']))"
      ]
    },
    {
      "cell_type": "code",
      "execution_count": null,
      "metadata": {
        "colab": {
          "base_uri": "https://localhost:8080/"
        },
        "id": "sr7A2YfUZsvW",
        "outputId": "ab2f97a1-4a14-497e-b66b-aae7e07840cd"
      },
      "outputs": [
        {
          "name": "stdout",
          "output_type": "stream",
          "text": [
            "348.63824374999996\n",
            "44.412509999999976\n",
            "25.811684999999997\n"
          ]
        }
      ],
      "source": [
        "from numpy import cov\n",
        "\n",
        "for col in colnames:\n",
        "  print(cov(data[col],data['Sales'], bias = True)[0, 1])"
      ]
    },
    {
      "cell_type": "markdown",
      "metadata": {
        "id": "biAhSxo2jul9"
      },
      "source": [
        "Interpretación de la covarianza\n",
        "Si ${\\displaystyle Cov(X, Y)>{0}}$ hay dependencia directa (positiva), es decir, a grandes valores de ${\\displaystyle X}$ corresponden grandes valores de ${\\displaystyle Y}$.\n",
        "Si ${\\displaystyle Cov(X, Y)={0}}$ se interpreta como la no existencia de una relación lineal entre las dos variables.\n",
        "Si ${\\displaystyle Cov(X, Y)<{0}}$ hay dependencia inversa o negativa, es decir, a grandes valores de ${\\displaystyle X}$ corresponden pequeños valores de ${\\displaystyle Y}$."
      ]
    },
    {
      "cell_type": "markdown",
      "metadata": {
        "id": "MI49XcTQhdbQ"
      },
      "source": [
        "###Caso Multivariable###\n",
        "Si $\\mathbf {X}$ es un vector aleatorio de dimensión $n$, es decir, $\\mathbf {X}$ $=(X_{1},\\ldots ,X_{n})^{t}$ donde $X_i$ para $i=1,2,\\dots ,n$ son variables aleatorias, la matriz de covarianza, denotada por $\\Sigma$, está dada por\n",
        "$$\n",
        "{\\displaystyle \\Sigma ={\\begin{pmatrix}\\operatorname {Cov} (X_{1},X_{1})&\\operatorname {Cov} (X_{1},X_{2})&\\cdots &\\operatorname {Cov} (X_{1},X_{n})\\\\\\operatorname {Cov} (X_{2},X_{1})&\\operatorname {Cov} (X_{2},X_{2})&\\cdots &\\operatorname {Cov} (X_{2},X_{n})\\\\\\vdots &\\vdots &\\ddots &\\vdots \\\\\\operatorname {Cov} (X_{n},X_{1})&\\operatorname {Cov} (X_{n},X_{2})&\\cdots &\\operatorname {Cov} (X_{n},X_{n})\\end{pmatrix}}}$$\n",
        "\n",
        "es decir, la ${(i,j)}$-ésima entrada de ${\\Sigma }$ corresponde a la covarianza entre ${X_{i}}$ y ${X_{j}}$ que puede ser representada como"
      ]
    },
    {
      "cell_type": "markdown",
      "metadata": {
        "id": "Y718nUPohdk3"
      },
      "source": [
        "## Implementar y aplicar a los cuatro vectores que forman parte de los datos que utilizamos."
      ]
    },
    {
      "cell_type": "code",
      "execution_count": null,
      "metadata": {
        "colab": {
          "base_uri": "https://localhost:8080/"
        },
        "id": "qeQRzbxiyf9W",
        "outputId": "92c5f9ce-a2a2-4f38-d701-b8c73573d48b"
      },
      "outputs": [
        {
          "name": "stdout",
          "output_type": "stream",
          "text": [
            "['_________', 'TV', 'Radio', 'Newspaper', 'Sales']\n",
            "['TV', 7334.095143750006, 69.51317999999999, 105.38985499999998, 348.6382437499999]\n",
            "['Radio', 69.51317999999999, 219.32560399999994, 113.92449399999998, 44.41250999999999]\n",
            "['Newspaper', 105.38985499999998, 113.92449399999998, 471.9367840000003, 25.811684999999994]\n",
            "['Sales', 348.6382437499999, 44.41250999999999, 25.811684999999994, 27.08574374999999]\n"
          ]
        }
      ],
      "source": [
        "col_names = ['TV', 'Radio', 'Newspaper', 'Sales']\n",
        "\n",
        "matrix = [['_________'] + col_names]\n",
        "for col1 in col_names:\n",
        "  row = [col1]\n",
        "  for col2 in col_names:\n",
        "    row.append(covarianza(data[col1],data[col2]))\n",
        "  matrix.append(row)\n",
        "\n",
        "for row in matrix:\n",
        "    print(row)\n",
        "    \n"
      ]
    },
    {
      "cell_type": "code",
      "execution_count": null,
      "metadata": {
        "colab": {
          "base_uri": "https://localhost:8080/"
        },
        "id": "k5EBfNdSxhnO",
        "outputId": "2abe82f3-0101-417d-f0d0-c733ddef6780"
      },
      "outputs": [
        {
          "name": "stdout",
          "output_type": "stream",
          "text": [
            "                    TV       Radio   Newspaper       Sales\n",
            "TV         7370.949893   69.862492  105.919452  350.390195\n",
            "Radio        69.862492  220.427743  114.496979   44.635688\n",
            "Newspaper   105.919452  114.496979  474.308326   25.941392\n",
            "Sales       350.390195   44.635688   25.941392   27.221853\n"
          ]
        }
      ],
      "source": [
        "colnames = ['TV', 'Radio', 'Newspaper', 'Sales']\n",
        "print(data[colnames].cov())"
      ]
    },
    {
      "cell_type": "markdown",
      "metadata": {
        "id": "uusoXDfHA_j8"
      },
      "source": [
        "### El problema es que no son valores fáciles de interpretar."
      ]
    },
    {
      "cell_type": "markdown",
      "metadata": {
        "id": "AHnO-5C3BTgZ"
      },
      "source": [
        "#### Correlación de Pearson"
      ]
    },
    {
      "cell_type": "markdown",
      "metadata": {
        "id": "rmDZV3lI9vec"
      },
      "source": [
        "Dado un par de variables aleatorias ${\\displaystyle (X,Y)}$, el coeficiente de correlación poblacional de Pearson (también denotado por ${\\displaystyle \\rho _{X,Y}}$) se define como\n",
        "\n",
        "$${\\displaystyle \\rho _{X,Y}={\\sigma _{XY} \\over \\sigma _{X}\\sigma _{Y}}={\\frac {\\operatorname {Cov} (X,Y)}{\\sqrt {\\operatorname {Var} (X)\\operatorname {Var} (Y)}}}}$$\n",
        "\n",
        "donde\n",
        "\n",
        "- ${\\displaystyle \\sigma _{XY}}$ es la covarianza de ${\\displaystyle (X,Y)}$\n",
        "- ${\\displaystyle \\sigma _{X}}$ es la desviación estándar de la variable ${\\displaystyle X}$\n",
        "- ${\\displaystyle \\sigma _{Y}}$ es la desviación estándar de la variable $Y$"
      ]
    },
    {
      "cell_type": "code",
      "execution_count": null,
      "metadata": {
        "colab": {
          "base_uri": "https://localhost:8080/"
        },
        "id": "etrwKH6Gxw1d",
        "outputId": "a0e91c47-0c31-43d0-83d8-bdcde947d602"
      },
      "outputs": [
        {
          "name": "stdout",
          "output_type": "stream",
          "text": [
            "0.782224424861606\n",
            "0.5762225745710553\n",
            "0.22829902637616528\n"
          ]
        }
      ],
      "source": [
        "import math\n",
        "\n",
        "def covarianza(X, Y):\n",
        "  suma = 0\n",
        "  for x, y in zip(X, Y):\n",
        "    suma +=((x - np.mean(X)) * (y - np.mean(Y)))\n",
        "  return suma * 1/((len(X) -1))\n",
        "\n",
        "def correlacion_Pearson(X, Y):\n",
        "  return covarianza(X, Y) / math.sqrt(covarianza(X, X) * covarianza(Y, Y))\n",
        "\n",
        "colnames = ['TV', 'Radio', 'Newspaper']\n",
        "\n",
        "for col in colnames:\n",
        "  print(correlacion_Pearson(data[col], data['Sales']))\n"
      ]
    },
    {
      "cell_type": "code",
      "execution_count": null,
      "metadata": {
        "colab": {
          "base_uri": "https://localhost:8080/"
        },
        "id": "YW9P3hTtCD4_",
        "outputId": "76190f0d-c12a-4603-c595-31bcb883f9bf"
      },
      "outputs": [
        {
          "name": "stdout",
          "output_type": "stream",
          "text": [
            "                 TV     Radio  Newspaper     Sales\n",
            "TV         1.000000  0.054809   0.056648  0.782224\n",
            "Radio      0.054809  1.000000   0.354104  0.576223\n",
            "Newspaper  0.056648  0.354104   1.000000  0.228299\n",
            "Sales      0.782224  0.576223   0.228299  1.000000\n"
          ]
        }
      ],
      "source": [
        "colnames = ['TV', 'Radio', 'Newspaper', 'Sales']\n",
        "print(data[colnames].corr())"
      ]
    },
    {
      "cell_type": "code",
      "execution_count": null,
      "metadata": {
        "colab": {
          "base_uri": "https://localhost:8080/",
          "height": 292
        },
        "id": "ZLTsrgWQFMzN",
        "outputId": "57a658c6-f408-4b5d-c4d7-e9b4e1d8d227"
      },
      "outputs": [
        {
          "data": {
            "text/plain": [
              "<matplotlib.image.AxesImage at 0x7fb7988a03d0>"
            ]
          },
          "execution_count": 18,
          "metadata": {
            "tags": []
          },
          "output_type": "execute_result"
        },
        {
          "data": {
            "image/png": "[encoded data removed]",
            "text/plain": [
              "<Figure size 288x288 with 1 Axes>"
            ]
          },
          "metadata": {
            "needs_background": "light",
            "tags": []
          },
          "output_type": "display_data"
        }
      ],
      "source": [
        "plt.matshow(data[colnames].corr())"
      ]
    },
    {
      "cell_type": "code",
      "execution_count": null,
      "metadata": {
        "id": "mBoV30NxH6n2"
      },
      "outputs": [],
      "source": [
        "import seaborn as sns\n",
        "\n",
        "def mapa_de_calor_correlacion(data):\n",
        "    correlaciones = data[colnames].corr()\n",
        "    fig, ax = plt.subplots(figsize=(10,10))\n",
        "    sns.heatmap(correlaciones, vmax=1.0, center=0, fmt='.2f', square=True, linewidths=1, annot=True, cbar_kws={\"shrink\": .60})\n",
        "    plt.show();\n",
        "\n"
      ]
    },
    {
      "cell_type": "code",
      "execution_count": null,
      "metadata": {
        "colab": {
          "base_uri": "https://localhost:8080/",
          "height": 494
        },
        "id": "txyUIsw_I5RZ",
        "outputId": "e5964423-aec1-41ba-e4d2-bcbaacf644fa"
      },
      "outputs": [
        {
          "data": {
            "image/png": "[encoded data removed]",
            "text/plain": [
              "<Figure size 720x720 with 2 Axes>"
            ]
          },
          "metadata": {
            "needs_background": "light",
            "tags": []
          },
          "output_type": "display_data"
        }
      ],
      "source": [
        "colnames = ['TV', 'Radio', 'Newspaper', 'Sales']\n",
        "\n",
        "mapa_de_calor_correlacion(data)"
      ]
    },
    {
      "cell_type": "markdown",
      "metadata": {
        "id": "noukjsSpXmaT"
      },
      "source": [
        "La regresión lineal encuentra los parámetros de la línea que mejor se ajusta a los datos, es decir, la pendiente ($\\theta_1$) y la constante o intercepto ($\\theta_0$) en este caso.\n",
        "\n",
        "$$h_\\theta(x) = \\theta_1x + \\theta_0$$\n",
        "\n",
        "A partir de ahora llamaremos a $h_\\theta(x)$ hipótesis"
      ]
    },
    {
      "cell_type": "markdown",
      "metadata": {
        "id": "VJ906q2VX7aH"
      },
      "source": [
        "## ¿Cómo medimos el rendimiento de nuestro modelo?"
      ]
    },
    {
      "cell_type": "markdown",
      "metadata": {
        "id": "yIGw6TJDYe2c"
      },
      "source": [
        "### Función de costo"
      ]
    },
    {
      "cell_type": "markdown",
      "metadata": {
        "id": "4dGXbFhIDM4k"
      },
      "source": [
        "Una función de costo nos dice básicamente \"lo bueno\" que es nuestro modelo a la hora de hacer predicciones."
      ]
    },
    {
      "cell_type": "markdown",
      "metadata": {
        "id": "-DXa2VBfZEBU"
      },
      "source": [
        "En nuestro caso función de costo es una función que calcula el error entre los valores de ventas (objetivo) predichos por nuestra hipótesis $h$ y la publicidad realizada en TV, radio o peródicos en el conjunto de entrenamiento.\n",
        "\n",
        "\n",
        "- Error Cuadrático Medio (MSE, por sus sigles en inglés)\n",
        "\n",
        "$$J(\\theta) = \\frac{1}{2m}\\sum_{i=1}^{m}(h_\\theta(x_i)- y_i)^2$$\n",
        "\n",
        "- Error Absoluto Medio (MAE, por sus sigles en inglés)\n",
        "\n",
        "$$J(\\theta) = \\frac{1}{2m}\\sum_{i=1}^{m}|h_\\theta(x_i)- y_i|$$\n",
        "\n",
        "Aquí $h$ es el valor predicho por nuestro modelos $m$ es el número de muestras.\n",
        "\n",
        "Programen la función"
      ]
    },
    {
      "cell_type": "code",
      "execution_count": null,
      "metadata": {
        "id": "BoedOh4OPDXm"
      },
      "outputs": [],
      "source": [
        "def MSE(h, Y):\n",
        "  return np.sum((h - Y) ** 2) / (2 * (len(h)))\n",
        "\n",
        "def aplica_hipotesis(X, theta_0, theta_1):\n",
        "  return theta_1 * X + theta_0\n",
        "\n",
        "def costo(X, Y, theta_0, theta_1):\n",
        "  h = aplica_hipotesis(X, theta_0, theta_1)\n",
        "  cost = MSE(h, Y)\n",
        "  return h, cost\n",
        "  \n",
        "def plot(X, Y, theta_0, theta_1):\n",
        "  x = np.linspace(0, X.max(), len(X))\n",
        "  plt.plot(X, Y, marker='.', linestyle='none', label='Y data')\n",
        "  plt.plot(x, aplica_hipotesis(x, theta_0, theta_1), label='model line')\n",
        "  # plt.plot(X, aplica_modelo_lineal(x, theta_0, theta_1), marker='.', linestyle='none', label='h')\n",
        "  plt.legend(loc=\"upper left\")\n",
        "  plt.show()"
      ]
    },
    {
      "cell_type": "markdown",
      "metadata": {
        "id": "00vXfkHxM70n"
      },
      "source": [
        "### Ajustando nuestro modelo al tanteo"
      ]
    },
    {
      "cell_type": "code",
      "execution_count": null,
      "metadata": {
        "colab": {
          "base_uri": "https://localhost:8080/",
          "height": 283
        },
        "id": "RVsW9lgJE9CD",
        "outputId": "45bcac9b-c137-45d7-b1f2-c253ed726bd4"
      },
      "outputs": [
        {
          "name": "stdout",
          "output_type": "stream",
          "text": [
            "MSE  =  5.503279937499999\n"
          ]
        },
        {
          "data": {
            "image/png": "[encoded data removed]",
            "text/plain": [
              "<Figure size 432x288 with 1 Axes>"
            ]
          },
          "metadata": {
            "needs_background": "light",
            "tags": []
          },
          "output_type": "display_data"
        }
      ],
      "source": [
        "theta_0, theta_1 = 6, 0.05\n",
        "X, Y = data['TV'].to_numpy(),data[\"Sales\"].to_numpy()\n",
        "h, cost = costo(X, Y, theta_0, theta_1)\n",
        "print('MSE  = ', cost)\n",
        "plot(X, Y, theta_0, theta_1)\n"
      ]
    },
    {
      "cell_type": "code",
      "execution_count": null,
      "metadata": {
        "colab": {
          "base_uri": "https://localhost:8080/"
        },
        "id": "WXTzAnW7Qa2I",
        "outputId": "2dfaef83-c952-4f44-b3a0-7305ccaf8c00"
      },
      "outputs": [
        {
          "name": "stdout",
          "output_type": "stream",
          "text": [
            "MSE  =  131.237325\n"
          ]
        },
        {
          "data": {
            "image/png": "[encoded data removed]",
            "text/plain": [
              "<Figure size 432x288 with 1 Axes>"
            ]
          },
          "metadata": {
            "needs_background": "light",
            "tags": []
          },
          "output_type": "display_data"
        }
      ],
      "source": [
        "theta_0, theta_1 = 1, 1\n",
        "X, Y = data['Radio'].to_numpy(),data[\"Sales\"].to_numpy()\n",
        "h, cost = costo(X, Y, theta_0, theta_1)\n",
        "print('MSE  = ', cost)\n",
        "plot(X, Y, theta_0, theta_1)"
      ]
    },
    {
      "cell_type": "code",
      "execution_count": null,
      "metadata": {
        "colab": {
          "base_uri": "https://localhost:8080/"
        },
        "id": "RRa-rhydE_hZ",
        "outputId": "d1ffa9f2-d72f-429d-d79e-bb023d69a24e"
      },
      "outputs": [
        {
          "name": "stdout",
          "output_type": "stream",
          "text": [
            "MSE  =  377.376325\n"
          ]
        },
        {
          "data": {
            "image/png": "[encoded data removed]",
            "text/plain": [
              "<Figure size 432x288 with 1 Axes>"
            ]
          },
          "metadata": {
            "needs_background": "light",
            "tags": []
          },
          "output_type": "display_data"
        }
      ],
      "source": [
        "theta_0, theta_1 = 1, 1\n",
        "X, Y = data['Newspaper'].to_numpy(),data[\"Sales\"].to_numpy()\n",
        "h, cost = costo(X, Y, theta_0, theta_1)\n",
        "print('MSE  = ', cost)\n",
        "plot(X, Y, theta_0, theta_1)"
      ]
    },
    {
      "cell_type": "markdown",
      "metadata": {
        "id": "Ga3Xo36vNZyM"
      },
      "source": [
        "Estime los mejores valores para $\\theta_0$ y $\\theta_1$. Es decir:\n",
        "\n",
        "$$\\min_\\theta J(\\theta)$$\n"
      ]
    },
    {
      "cell_type": "markdown",
      "metadata": {
        "id": "QsjsAg4rBNJd"
      },
      "source": [
        "Es decir, intentamos mejorar nuestra hipótesis $h_\\theta(x)$, en aprendizaje automático esto es aprender."
      ]
    }
  ],
  "metadata": {
    "colab": {
      "name": "Copia de DL-clase-3-Regresión lineal.ipynb",
      "provenance": []
    },
    "kernelspec": {
      "display_name": "Python 3.9.6 64-bit",
      "language": "python",
      "name": "python3"
    },
    "language_info": {
      "name": "python",
      "version": "3.9.6"
    },
    "vscode": {
      "interpreter": {
        "hash": "dc7a20d0ad45a7775eb16e0612c801d5a90d45f4c782d30f286fba4d86208701"
      }
    }
  },
  "nbformat": 4,
  "nbformat_minor": 0
}
